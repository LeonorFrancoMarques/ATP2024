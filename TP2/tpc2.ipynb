{
 "cells": [
  {
   "cell_type": "markdown",
   "metadata": {},
   "source": [
    "### TPC2: Adivinha o número\n",
    "- Crie um programa em Python para jogar o jogo \"Adivinha o número\":\n",
    "    - O jogo pode ter 2 modalidades: computador pensa num número (entre 0 e 100), utilizador tenta adivinhar; ou, o utilizador pensa num número (entre 0 e 100) e o computador tenta adivinhar;\n",
    "    - Quem tenta adivinhar responde com uma das afirmações: \"Acertou\", \"O número que pensei é Maior\" ou \"O número que pensei é Menor\";\n",
    "    - Uma vez descoberto o número o programa deverá terminar imprimindo o número de tentativas que quem adivinhou usou para chegar ao resultado."
   ]
  },
  {
   "cell_type": "code",
   "execution_count": 6,
   "metadata": {},
   "outputs": [
    {
     "name": "stdout",
     "output_type": "stream",
     "text": [
      "O jogo consiste em duas modalidades:\n",
      "1 - O computador pensa num número entre 0 e 100 e o utilizador adivinha.\n",
      "2 - O utilizador pensa num número entre 0 e 100 e o computador adivinha.\n",
      "Quem pensou no número pode responder apenas com: Acertou, Maior ou Menor.\n",
      "O número que pensei é maior.\n",
      "O número que pensei é maior.\n",
      "O número que pensei é maior.\n",
      "O número que pensei é maior.\n",
      "O número que pensei é maior.\n",
      "O número que pensei é maior.\n",
      "Acertou! O número era 99 e usou 7 tentativa(s) para chegar ao resultado certo.\n"
     ]
    }
   ],
   "source": [
    "# O utilizador pensa num número e o computador tenta adivinhar:\n",
    "\n",
    "import random\n",
    "\n",
    "print(\"O jogo consiste em duas modalidades:\")\n",
    "print (\"1 - O computador pensa num número entre 0 e 100 e o utilizador adivinha.\")\n",
    "print(\"2 - O utilizador pensa num número entre 0 e 100 e o computador adivinha.\")\n",
    "print(\"Quem pensou no número pode responder apenas com: Acertou, Maior ou Menor.\")\n",
    "modalidade = int(input(\"Qual a modalidade que quer jogar? 1 ou 2?:\"))\n",
    "\n",
    "while modalidade != 1 and modalidade != 2:\n",
    "    print(\"Opção inválida, tente novamente.\")\n",
    "    modalidade = int(input(\"Qual a modalidade que quer jogar? 1 ou 2?:\"))\n",
    "\n",
    "if modalidade == 1:\n",
    "    número = random.randint(0,100)\n",
    "    palpite = int(input(\"Introduza um número:\"))\n",
    "    tentativas = 1\n",
    "    if palpite == número:\n",
    "        print(f\"Acertou! O número era {palpite} e usou {tentativas} tentativa(s) para chegar ao resultado certo.\")\n",
    "    while palpite != número:\n",
    "        if palpite > número:\n",
    "            print(\"O número que pensei é menor.\")\n",
    "            palpite = int(input(\"Introduza o seu palpite:\"))\n",
    "            tentativas = tentativas + 1\n",
    "        elif palpite < número:\n",
    "            print(\"O número que pensei é maior.\")\n",
    "            palpite = int(input(\"Introduza o seu palpite:\"))\n",
    "            tentativas = tentativas + 1\n",
    "    print(f\"Acertou! O número era {palpite} e usou {tentativas} tentativa(s) para chegar ao resultado certo.\")\n",
    "\n",
    "elif modalidade == 2:\n",
    "    menor = 0\n",
    "    maior = 100\n",
    "    num = (menor+maior)/2\n",
    "    num1 = num\n",
    "    tentativas = 1\n",
    "    print (f\"O computador pensa que o seu número é {num}.\")\n",
    "    resposta = input(\"Responda apenas com *Acertou*, *Maior* ou *Menor*:\")\n",
    "    \n",
    "    if resposta == \"Acertou\":\n",
    "        print(f\"Acertei! Usei {tentativas} tentativa(s) para chegar ao resultado certo.\")\n",
    "    while resposta != \"Acertou\":\n",
    "        if resposta == \"Maior\":\n",
    "            menor = num1 + 1\n",
    "            num1 = (menor+maior)//2\n",
    "            print(f\"O seu número é {num1}?\")\n",
    "            resposta = input(\"Responda apenas com Acertou, Maior ou Menor.\")\n",
    "            tentativas = tentativas + 1\n",
    "        elif resposta == \"Menor\":\n",
    "            maior = num1 - 1\n",
    "            num1 = (menor+maior)//2\n",
    "            print(f\"O seu número é {num1}?\")\n",
    "            resposta = input(\"Responda apenas com Acertou, Maior ou Menor.\")\n",
    "            tentativas = tentativas + 1\n",
    "        else:\n",
    "            print (\"Resposta inválida.\")\n",
    "            resposta = input(\"Responda apenas com Acertou, Maior ou Menor.\")\n",
    "    print(f\"Acertei! Usei {tentativas} tentativa(s) para chegar ao resultado certo.\") "
   ]
  }
 ],
 "metadata": {
  "kernelspec": {
   "display_name": "Python 3",
   "language": "python",
   "name": "python3"
  },
  "language_info": {
   "codemirror_mode": {
    "name": "ipython",
    "version": 3
   },
   "file_extension": ".py",
   "mimetype": "text/x-python",
   "name": "python",
   "nbconvert_exporter": "python",
   "pygments_lexer": "ipython3",
   "version": "3.12.6"
  }
 },
 "nbformat": 4,
 "nbformat_minor": 2
}
