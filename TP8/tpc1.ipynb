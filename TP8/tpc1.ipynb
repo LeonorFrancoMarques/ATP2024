{
 "cells": [
  {
   "cell_type": "markdown",
   "metadata": {},
   "source": [
    "### tpc-1. Especifique as seguintes listas em compreensão:"
   ]
  },
  {
   "cell_type": "markdown",
   "metadata": {},
   "source": [
    "#### a) Lista formada pelos elementos que não são comuns às duas listas:"
   ]
  },
  {
   "cell_type": "code",
   "execution_count": 1,
   "metadata": {},
   "outputs": [
    {
     "name": "stdout",
     "output_type": "stream",
     "text": [
      "[1, 2, 3, 6, 7, 8]\n"
     ]
    }
   ],
   "source": [
    "lista1 = [1, 2, 3, 4, 5]\n",
    "lista2 = [4, 5, 6, 7, 8]  \n",
    "\n",
    "ncomuns = [num for num in lista1 if num not in lista2] + [num for num in lista2 if num not in lista1]\n",
    "print(ncomuns)"
   ]
  },
  {
   "cell_type": "markdown",
   "metadata": {},
   "source": [
    "#### b) Lista formada pelas palavras do texto compostas por mais de 3 letras:"
   ]
  },
  {
   "cell_type": "code",
   "execution_count": 2,
   "metadata": {},
   "outputs": [
    {
     "name": "stdout",
     "output_type": "stream",
     "text": [
      "['Vivia', 'poucos', 'anos', 'algures', 'concelho', 'Ribatejo', 'pequeno', 'lavrador', 'negociante', 'gado', 'chamado', 'Manuel', 'Peres', 'Vigário']\n"
     ]
    }
   ],
   "source": [
    "texto = \"\"\"Vivia há já não poucos anos algures num concelho do Ribatejo \n",
    "    um pequeno lavrador e negociante de gado chamado Manuel Peres Vigário\"\"\"\n",
    "\n",
    "textofinal = texto.split()\n",
    "lista = [pal for pal in textofinal if len(pal)>3]\n",
    "print(lista)"
   ]
  },
  {
   "cell_type": "markdown",
   "metadata": {},
   "source": [
    "#### c) Lista formada por pares do tipo (índice, valor) com os valores da lista dada:"
   ]
  },
  {
   "cell_type": "code",
   "execution_count": 3,
   "metadata": {},
   "outputs": [
    {
     "name": "stdout",
     "output_type": "stream",
     "text": [
      "[(1, 'anaconda'), (2, 'burro'), (3, 'cavalo'), (4, 'macaco')]\n"
     ]
    }
   ],
   "source": [
    "lista = ['anaconda', 'burro', 'cavalo', 'macaco']\n",
    "\n",
    "listaRes = [((lista.index(elem)+1), elem) for elem in lista]\n",
    "print(listaRes)"
   ]
  }
 ],
 "metadata": {
  "kernelspec": {
   "display_name": "Python 3",
   "language": "python",
   "name": "python3"
  },
  "language_info": {
   "codemirror_mode": {
    "name": "ipython",
    "version": 3
   },
   "file_extension": ".py",
   "mimetype": "text/x-python",
   "name": "python",
   "nbconvert_exporter": "python",
   "pygments_lexer": "ipython3",
   "version": "3.12.6"
  }
 },
 "nbformat": 4,
 "nbformat_minor": 2
}
