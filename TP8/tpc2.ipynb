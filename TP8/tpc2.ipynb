{
 "cells": [
  {
   "cell_type": "markdown",
   "metadata": {},
   "source": [
    "### tpc-2. À semelhança do que foi feito nas aulas, realize as seguintes tarefas:"
   ]
  },
  {
   "cell_type": "markdown",
   "metadata": {},
   "source": [
    "#### a) Especifique uma função que dada uma string e uma substring não vazia, calcula  o número de vezes em que a substring aparece na string, sem que haja sobreposição de substrings:"
   ]
  },
  {
   "cell_type": "code",
   "execution_count": 2,
   "metadata": {},
   "outputs": [
    {
     "name": "stdout",
     "output_type": "stream",
     "text": [
      "2\n",
      "1\n",
      "0\n"
     ]
    }
   ],
   "source": [
    "def strCount(s, subs):\n",
    "    contador = 0\n",
    "    i = 0\n",
    "    while i + len(subs) <= len(s):\n",
    "        if s[i:(i+len(subs))] == subs:    \n",
    "            contador = contador + 1\n",
    "        i = i + 1\n",
    "    return contador\n",
    "\n",
    "print(strCount(\"catcowcat\", \"cat\")) \n",
    "print(strCount(\"catcowcat\", \"cow\")) \n",
    "print(strCount(\"catcowcat\", \"dog\")) "
   ]
  },
  {
   "cell_type": "markdown",
   "metadata": {},
   "source": [
    "#### b) Especifique uma função que recebe uma lista de números inteiros positivos e devolve o menor produto que for possível calcular multiplicando os 3 menores inteiros da lista:"
   ]
  },
  {
   "cell_type": "code",
   "execution_count": 3,
   "metadata": {},
   "outputs": [
    {
     "name": "stdout",
     "output_type": "stream",
     "text": [
      "168\n"
     ]
    }
   ],
   "source": [
    "def produtoM3(lista):\n",
    "    lista_ordenada = sorted(lista)      \n",
    "    produto = lista_ordenada[0] * lista_ordenada[1] * lista_ordenada[2]\n",
    "    return produto\n",
    "\n",
    "print(produtoM3([12,3,7,10,12,8,9]))"
   ]
  },
  {
   "cell_type": "markdown",
   "metadata": {},
   "source": [
    "#### c) Especifique uma função que dado um número inteiro positivo, repetidamente adiciona os seus dígitos até obter apenas um dígito que é retornado como resultado:"
   ]
  },
  {
   "cell_type": "code",
   "execution_count": 4,
   "metadata": {},
   "outputs": [
    {
     "name": "stdout",
     "output_type": "stream",
     "text": [
      "2\n",
      "3\n"
     ]
    }
   ],
   "source": [
    "def reduxInt(n):  \n",
    "    while n >= 10:                       \n",
    "        soma = 0\n",
    "        for digito in str(n):\n",
    "            soma = soma + int(digito)\n",
    "            n = soma\n",
    "    return n\n",
    "\n",
    "print(reduxInt(38))\n",
    "print(reduxInt(777))"
   ]
  },
  {
   "cell_type": "markdown",
   "metadata": {},
   "source": [
    "#### d) Especifique uma função que recebe duas strings, `string1` e `string2`, e devolve o índice da primeira ocorrência de `string2` em `string1`, caso não ocorra nenhuma vez a função deverá retornar `-1`:"
   ]
  },
  {
   "cell_type": "code",
   "execution_count": 5,
   "metadata": {},
   "outputs": [
    {
     "name": "stdout",
     "output_type": "stream",
     "text": [
      "13\n",
      "-1\n"
     ]
    }
   ],
   "source": [
    "def myIndexOf(s1, s2):\n",
    "    i = 0\n",
    "    while i + len(s2) <= len(s1):\n",
    "        if s1[i:(i+len(s2))] == s2:\n",
    "            res = i\n",
    "            return res\n",
    "        i = i + 1\n",
    "    else:\n",
    "        res = -1 \n",
    "    return res\n",
    "\n",
    "print(myIndexOf(\"Hoje está um belo dia de sol!\", \"belo\"))\n",
    "print(myIndexOf(\"Hoje está um belo dia de sol!\", \"chuva\"))"
   ]
  }
 ],
 "metadata": {
  "kernelspec": {
   "display_name": "Python 3",
   "language": "python",
   "name": "python3"
  },
  "language_info": {
   "codemirror_mode": {
    "name": "ipython",
    "version": 3
   },
   "file_extension": ".py",
   "mimetype": "text/x-python",
   "name": "python",
   "nbconvert_exporter": "python",
   "pygments_lexer": "ipython3",
   "version": "3.12.6"
  }
 },
 "nbformat": 4,
 "nbformat_minor": 2
}
